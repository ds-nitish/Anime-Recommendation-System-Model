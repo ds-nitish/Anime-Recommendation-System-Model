{
 "cells": [
  {
   "cell_type": "code",
   "execution_count": 187,
   "metadata": {},
   "outputs": [],
   "source": [
    "import pandas as pd\n",
    "import numpy as np"
   ]
  },
  {
   "cell_type": "code",
   "execution_count": 188,
   "metadata": {},
   "outputs": [],
   "source": [
    "df = pd.read_csv('animes.csv')"
   ]
  },
  {
   "cell_type": "code",
   "execution_count": 189,
   "metadata": {},
   "outputs": [
    {
     "data": {
      "text/html": [
       "<div>\n",
       "<style scoped>\n",
       "    .dataframe tbody tr th:only-of-type {\n",
       "        vertical-align: middle;\n",
       "    }\n",
       "\n",
       "    .dataframe tbody tr th {\n",
       "        vertical-align: top;\n",
       "    }\n",
       "\n",
       "    .dataframe thead th {\n",
       "        text-align: right;\n",
       "    }\n",
       "</style>\n",
       "<table border=\"1\" class=\"dataframe\">\n",
       "  <thead>\n",
       "    <tr style=\"text-align: right;\">\n",
       "      <th></th>\n",
       "      <th>uid</th>\n",
       "      <th>title</th>\n",
       "      <th>synopsis</th>\n",
       "      <th>genre</th>\n",
       "      <th>aired</th>\n",
       "      <th>episodes</th>\n",
       "      <th>members</th>\n",
       "      <th>popularity</th>\n",
       "      <th>ranked</th>\n",
       "      <th>score</th>\n",
       "      <th>img_url</th>\n",
       "      <th>link</th>\n",
       "    </tr>\n",
       "  </thead>\n",
       "  <tbody>\n",
       "    <tr>\n",
       "      <th>0</th>\n",
       "      <td>28891</td>\n",
       "      <td>Haikyuu!! Second Season</td>\n",
       "      <td>Following their participation at the Inter-Hig...</td>\n",
       "      <td>['Comedy', 'Sports', 'Drama', 'School', 'Shoun...</td>\n",
       "      <td>Oct 4, 2015 to Mar 27, 2016</td>\n",
       "      <td>25.0</td>\n",
       "      <td>489888</td>\n",
       "      <td>141</td>\n",
       "      <td>25.0</td>\n",
       "      <td>8.82</td>\n",
       "      <td>https://cdn.myanimelist.net/images/anime/9/766...</td>\n",
       "      <td>https://myanimelist.net/anime/28891/Haikyuu_Se...</td>\n",
       "    </tr>\n",
       "    <tr>\n",
       "      <th>1</th>\n",
       "      <td>23273</td>\n",
       "      <td>Shigatsu wa Kimi no Uso</td>\n",
       "      <td>Music accompanies the path of the human metron...</td>\n",
       "      <td>['Drama', 'Music', 'Romance', 'School', 'Shoun...</td>\n",
       "      <td>Oct 10, 2014 to Mar 20, 2015</td>\n",
       "      <td>22.0</td>\n",
       "      <td>995473</td>\n",
       "      <td>28</td>\n",
       "      <td>24.0</td>\n",
       "      <td>8.83</td>\n",
       "      <td>https://cdn.myanimelist.net/images/anime/3/671...</td>\n",
       "      <td>https://myanimelist.net/anime/23273/Shigatsu_w...</td>\n",
       "    </tr>\n",
       "    <tr>\n",
       "      <th>2</th>\n",
       "      <td>34599</td>\n",
       "      <td>Made in Abyss</td>\n",
       "      <td>The Abyss—a gaping chasm stretching down into ...</td>\n",
       "      <td>['Sci-Fi', 'Adventure', 'Mystery', 'Drama', 'F...</td>\n",
       "      <td>Jul 7, 2017 to Sep 29, 2017</td>\n",
       "      <td>13.0</td>\n",
       "      <td>581663</td>\n",
       "      <td>98</td>\n",
       "      <td>23.0</td>\n",
       "      <td>8.83</td>\n",
       "      <td>https://cdn.myanimelist.net/images/anime/6/867...</td>\n",
       "      <td>https://myanimelist.net/anime/34599/Made_in_Abyss</td>\n",
       "    </tr>\n",
       "    <tr>\n",
       "      <th>3</th>\n",
       "      <td>5114</td>\n",
       "      <td>Fullmetal Alchemist: Brotherhood</td>\n",
       "      <td>\"In order for something to be obtained, someth...</td>\n",
       "      <td>['Action', 'Military', 'Adventure', 'Comedy', ...</td>\n",
       "      <td>Apr 5, 2009 to Jul 4, 2010</td>\n",
       "      <td>64.0</td>\n",
       "      <td>1615084</td>\n",
       "      <td>4</td>\n",
       "      <td>1.0</td>\n",
       "      <td>9.23</td>\n",
       "      <td>https://cdn.myanimelist.net/images/anime/1223/...</td>\n",
       "      <td>https://myanimelist.net/anime/5114/Fullmetal_A...</td>\n",
       "    </tr>\n",
       "    <tr>\n",
       "      <th>4</th>\n",
       "      <td>31758</td>\n",
       "      <td>Kizumonogatari III: Reiketsu-hen</td>\n",
       "      <td>After helping revive the legendary vampire Kis...</td>\n",
       "      <td>['Action', 'Mystery', 'Supernatural', 'Vampire']</td>\n",
       "      <td>Jan 6, 2017</td>\n",
       "      <td>1.0</td>\n",
       "      <td>214621</td>\n",
       "      <td>502</td>\n",
       "      <td>22.0</td>\n",
       "      <td>8.83</td>\n",
       "      <td>https://cdn.myanimelist.net/images/anime/3/815...</td>\n",
       "      <td>https://myanimelist.net/anime/31758/Kizumonoga...</td>\n",
       "    </tr>\n",
       "  </tbody>\n",
       "</table>\n",
       "</div>"
      ],
      "text/plain": [
       "     uid                             title  \\\n",
       "0  28891           Haikyuu!! Second Season   \n",
       "1  23273           Shigatsu wa Kimi no Uso   \n",
       "2  34599                     Made in Abyss   \n",
       "3   5114  Fullmetal Alchemist: Brotherhood   \n",
       "4  31758  Kizumonogatari III: Reiketsu-hen   \n",
       "\n",
       "                                            synopsis  \\\n",
       "0  Following their participation at the Inter-Hig...   \n",
       "1  Music accompanies the path of the human metron...   \n",
       "2  The Abyss—a gaping chasm stretching down into ...   \n",
       "3  \"In order for something to be obtained, someth...   \n",
       "4  After helping revive the legendary vampire Kis...   \n",
       "\n",
       "                                               genre  \\\n",
       "0  ['Comedy', 'Sports', 'Drama', 'School', 'Shoun...   \n",
       "1  ['Drama', 'Music', 'Romance', 'School', 'Shoun...   \n",
       "2  ['Sci-Fi', 'Adventure', 'Mystery', 'Drama', 'F...   \n",
       "3  ['Action', 'Military', 'Adventure', 'Comedy', ...   \n",
       "4   ['Action', 'Mystery', 'Supernatural', 'Vampire']   \n",
       "\n",
       "                          aired  episodes  members  popularity  ranked  score  \\\n",
       "0   Oct 4, 2015 to Mar 27, 2016      25.0   489888         141    25.0   8.82   \n",
       "1  Oct 10, 2014 to Mar 20, 2015      22.0   995473          28    24.0   8.83   \n",
       "2   Jul 7, 2017 to Sep 29, 2017      13.0   581663          98    23.0   8.83   \n",
       "3    Apr 5, 2009 to Jul 4, 2010      64.0  1615084           4     1.0   9.23   \n",
       "4                   Jan 6, 2017       1.0   214621         502    22.0   8.83   \n",
       "\n",
       "                                             img_url  \\\n",
       "0  https://cdn.myanimelist.net/images/anime/9/766...   \n",
       "1  https://cdn.myanimelist.net/images/anime/3/671...   \n",
       "2  https://cdn.myanimelist.net/images/anime/6/867...   \n",
       "3  https://cdn.myanimelist.net/images/anime/1223/...   \n",
       "4  https://cdn.myanimelist.net/images/anime/3/815...   \n",
       "\n",
       "                                                link  \n",
       "0  https://myanimelist.net/anime/28891/Haikyuu_Se...  \n",
       "1  https://myanimelist.net/anime/23273/Shigatsu_w...  \n",
       "2  https://myanimelist.net/anime/34599/Made_in_Abyss  \n",
       "3  https://myanimelist.net/anime/5114/Fullmetal_A...  \n",
       "4  https://myanimelist.net/anime/31758/Kizumonoga...  "
      ]
     },
     "execution_count": 189,
     "metadata": {},
     "output_type": "execute_result"
    }
   ],
   "source": [
    "df.head()"
   ]
  },
  {
   "cell_type": "code",
   "execution_count": 190,
   "metadata": {},
   "outputs": [],
   "source": [
    "df = df.sort_values(by='members',ascending=False).iloc[:4700,:]"
   ]
  },
  {
   "cell_type": "code",
   "execution_count": 191,
   "metadata": {},
   "outputs": [
    {
     "data": {
      "text/html": [
       "<div>\n",
       "<style scoped>\n",
       "    .dataframe tbody tr th:only-of-type {\n",
       "        vertical-align: middle;\n",
       "    }\n",
       "\n",
       "    .dataframe tbody tr th {\n",
       "        vertical-align: top;\n",
       "    }\n",
       "\n",
       "    .dataframe thead th {\n",
       "        text-align: right;\n",
       "    }\n",
       "</style>\n",
       "<table border=\"1\" class=\"dataframe\">\n",
       "  <thead>\n",
       "    <tr style=\"text-align: right;\">\n",
       "      <th></th>\n",
       "      <th>uid</th>\n",
       "      <th>title</th>\n",
       "      <th>synopsis</th>\n",
       "      <th>genre</th>\n",
       "      <th>aired</th>\n",
       "      <th>episodes</th>\n",
       "      <th>members</th>\n",
       "      <th>popularity</th>\n",
       "      <th>ranked</th>\n",
       "      <th>score</th>\n",
       "      <th>img_url</th>\n",
       "      <th>link</th>\n",
       "    </tr>\n",
       "  </thead>\n",
       "  <tbody>\n",
       "    <tr>\n",
       "      <th>5292</th>\n",
       "      <td>20</td>\n",
       "      <td>Naruto</td>\n",
       "      <td>Moments prior to Naruto Uzumaki's birth, a hug...</td>\n",
       "      <td>['Action', 'Adventure', 'Comedy', 'Super Power...</td>\n",
       "      <td>Oct 3, 2002 to Feb 8, 2007</td>\n",
       "      <td>220.0</td>\n",
       "      <td>1280914</td>\n",
       "      <td>9</td>\n",
       "      <td>670.0</td>\n",
       "      <td>7.93</td>\n",
       "      <td>https://cdn.myanimelist.net/images/anime/13/17...</td>\n",
       "      <td>https://myanimelist.net/anime/20/Naruto</td>\n",
       "    </tr>\n",
       "    <tr>\n",
       "      <th>144</th>\n",
       "      <td>20</td>\n",
       "      <td>Naruto</td>\n",
       "      <td>Moments prior to Naruto Uzumaki's birth, a hug...</td>\n",
       "      <td>['Action', 'Adventure', 'Comedy', 'Super Power...</td>\n",
       "      <td>Oct 3, 2002 to Feb 8, 2007</td>\n",
       "      <td>220.0</td>\n",
       "      <td>1280914</td>\n",
       "      <td>9</td>\n",
       "      <td>670.0</td>\n",
       "      <td>7.93</td>\n",
       "      <td>https://cdn.myanimelist.net/images/anime/13/17...</td>\n",
       "      <td>https://myanimelist.net/anime/20/Naruto</td>\n",
       "    </tr>\n",
       "  </tbody>\n",
       "</table>\n",
       "</div>"
      ],
      "text/plain": [
       "      uid   title                                           synopsis  \\\n",
       "5292   20  Naruto  Moments prior to Naruto Uzumaki's birth, a hug...   \n",
       "144    20  Naruto  Moments prior to Naruto Uzumaki's birth, a hug...   \n",
       "\n",
       "                                                  genre  \\\n",
       "5292  ['Action', 'Adventure', 'Comedy', 'Super Power...   \n",
       "144   ['Action', 'Adventure', 'Comedy', 'Super Power...   \n",
       "\n",
       "                           aired  episodes  members  popularity  ranked  \\\n",
       "5292  Oct 3, 2002 to Feb 8, 2007     220.0  1280914           9   670.0   \n",
       "144   Oct 3, 2002 to Feb 8, 2007     220.0  1280914           9   670.0   \n",
       "\n",
       "      score                                            img_url  \\\n",
       "5292   7.93  https://cdn.myanimelist.net/images/anime/13/17...   \n",
       "144    7.93  https://cdn.myanimelist.net/images/anime/13/17...   \n",
       "\n",
       "                                         link  \n",
       "5292  https://myanimelist.net/anime/20/Naruto  \n",
       "144   https://myanimelist.net/anime/20/Naruto  "
      ]
     },
     "execution_count": 191,
     "metadata": {},
     "output_type": "execute_result"
    }
   ],
   "source": [
    "df[df['title'] == 'Naruto']"
   ]
  },
  {
   "cell_type": "code",
   "execution_count": 192,
   "metadata": {},
   "outputs": [
    {
     "data": {
      "text/plain": [
       "(4700, 12)"
      ]
     },
     "execution_count": 192,
     "metadata": {},
     "output_type": "execute_result"
    }
   ],
   "source": [
    "df.shape"
   ]
  },
  {
   "cell_type": "code",
   "execution_count": 193,
   "metadata": {},
   "outputs": [
    {
     "data": {
      "text/plain": [
       "uid             0\n",
       "title           0\n",
       "synopsis       38\n",
       "genre           0\n",
       "aired           0\n",
       "episodes       82\n",
       "members         0\n",
       "popularity      0\n",
       "ranked        202\n",
       "score          94\n",
       "img_url         1\n",
       "link            0\n",
       "dtype: int64"
      ]
     },
     "execution_count": 193,
     "metadata": {},
     "output_type": "execute_result"
    }
   ],
   "source": [
    "df.isna().sum()"
   ]
  },
  {
   "cell_type": "code",
   "execution_count": 194,
   "metadata": {},
   "outputs": [],
   "source": [
    "df = df.dropna()"
   ]
  },
  {
   "cell_type": "code",
   "execution_count": 195,
   "metadata": {},
   "outputs": [],
   "source": [
    "df = df.drop_duplicates()"
   ]
  },
  {
   "cell_type": "code",
   "execution_count": 196,
   "metadata": {},
   "outputs": [
    {
     "data": {
      "text/plain": [
       "(3499, 12)"
      ]
     },
     "execution_count": 196,
     "metadata": {},
     "output_type": "execute_result"
    }
   ],
   "source": [
    "df.shape"
   ]
  },
  {
   "cell_type": "code",
   "execution_count": 197,
   "metadata": {},
   "outputs": [
    {
     "data": {
      "text/plain": [
       "uid             int64\n",
       "title          object\n",
       "synopsis       object\n",
       "genre          object\n",
       "aired          object\n",
       "episodes      float64\n",
       "members         int64\n",
       "popularity      int64\n",
       "ranked        float64\n",
       "score         float64\n",
       "img_url        object\n",
       "link           object\n",
       "dtype: object"
      ]
     },
     "execution_count": 197,
     "metadata": {},
     "output_type": "execute_result"
    }
   ],
   "source": [
    "df.dtypes"
   ]
  },
  {
   "cell_type": "code",
   "execution_count": 198,
   "metadata": {},
   "outputs": [
    {
     "data": {
      "text/plain": [
       "Index(['uid', 'title', 'synopsis', 'genre', 'aired', 'episodes', 'members',\n",
       "       'popularity', 'ranked', 'score', 'img_url', 'link'],\n",
       "      dtype='object')"
      ]
     },
     "execution_count": 198,
     "metadata": {},
     "output_type": "execute_result"
    }
   ],
   "source": [
    "df.columns"
   ]
  },
  {
   "cell_type": "code",
   "execution_count": 199,
   "metadata": {},
   "outputs": [],
   "source": [
    "columns = ['title', 'synopsis', 'genre','img_url', 'link']"
   ]
  },
  {
   "cell_type": "code",
   "execution_count": 200,
   "metadata": {},
   "outputs": [],
   "source": [
    "df = df[columns]"
   ]
  },
  {
   "cell_type": "code",
   "execution_count": 201,
   "metadata": {},
   "outputs": [
    {
     "data": {
      "text/html": [
       "<div>\n",
       "<style scoped>\n",
       "    .dataframe tbody tr th:only-of-type {\n",
       "        vertical-align: middle;\n",
       "    }\n",
       "\n",
       "    .dataframe tbody tr th {\n",
       "        vertical-align: top;\n",
       "    }\n",
       "\n",
       "    .dataframe thead th {\n",
       "        text-align: right;\n",
       "    }\n",
       "</style>\n",
       "<table border=\"1\" class=\"dataframe\">\n",
       "  <thead>\n",
       "    <tr style=\"text-align: right;\">\n",
       "      <th></th>\n",
       "      <th>title</th>\n",
       "      <th>synopsis</th>\n",
       "      <th>genre</th>\n",
       "      <th>img_url</th>\n",
       "      <th>link</th>\n",
       "    </tr>\n",
       "  </thead>\n",
       "  <tbody>\n",
       "    <tr>\n",
       "      <th>740</th>\n",
       "      <td>Death Note</td>\n",
       "      <td>A shinigami, as a god of death, can kill any p...</td>\n",
       "      <td>['Mystery', 'Police', 'Psychological', 'Supern...</td>\n",
       "      <td>https://cdn.myanimelist.net/images/anime/9/945...</td>\n",
       "      <td>https://myanimelist.net/anime/1535/Death_Note</td>\n",
       "    </tr>\n",
       "    <tr>\n",
       "      <th>15785</th>\n",
       "      <td>Shingeki no Kyojin</td>\n",
       "      <td>Centuries ago, mankind was slaughtered to near...</td>\n",
       "      <td>['Action', 'Military', 'Mystery', 'Super Power...</td>\n",
       "      <td>https://cdn.myanimelist.net/images/anime/10/47...</td>\n",
       "      <td>https://myanimelist.net/anime/16498/Shingeki_n...</td>\n",
       "    </tr>\n",
       "    <tr>\n",
       "      <th>8409</th>\n",
       "      <td>Sword Art Online</td>\n",
       "      <td>In the year 2022, virtual reality has progress...</td>\n",
       "      <td>['Action', 'Adventure', 'Fantasy', 'Game', 'Ro...</td>\n",
       "      <td>https://cdn.myanimelist.net/images/anime/11/39...</td>\n",
       "      <td>https://myanimelist.net/anime/11757/Sword_Art_...</td>\n",
       "    </tr>\n",
       "    <tr>\n",
       "      <th>3</th>\n",
       "      <td>Fullmetal Alchemist: Brotherhood</td>\n",
       "      <td>\"In order for something to be obtained, someth...</td>\n",
       "      <td>['Action', 'Military', 'Adventure', 'Comedy', ...</td>\n",
       "      <td>https://cdn.myanimelist.net/images/anime/1223/...</td>\n",
       "      <td>https://myanimelist.net/anime/5114/Fullmetal_A...</td>\n",
       "    </tr>\n",
       "    <tr>\n",
       "      <th>3093</th>\n",
       "      <td>One Punch Man</td>\n",
       "      <td>The seemingly ordinary and unimpressive Saitam...</td>\n",
       "      <td>['Action', 'Sci-Fi', 'Comedy', 'Parody', 'Supe...</td>\n",
       "      <td>https://cdn.myanimelist.net/images/anime/12/76...</td>\n",
       "      <td>https://myanimelist.net/anime/30276/One_Punch_Man</td>\n",
       "    </tr>\n",
       "  </tbody>\n",
       "</table>\n",
       "</div>"
      ],
      "text/plain": [
       "                                  title  \\\n",
       "740                          Death Note   \n",
       "15785                Shingeki no Kyojin   \n",
       "8409                   Sword Art Online   \n",
       "3      Fullmetal Alchemist: Brotherhood   \n",
       "3093                      One Punch Man   \n",
       "\n",
       "                                                synopsis  \\\n",
       "740    A shinigami, as a god of death, can kill any p...   \n",
       "15785  Centuries ago, mankind was slaughtered to near...   \n",
       "8409   In the year 2022, virtual reality has progress...   \n",
       "3      \"In order for something to be obtained, someth...   \n",
       "3093   The seemingly ordinary and unimpressive Saitam...   \n",
       "\n",
       "                                                   genre  \\\n",
       "740    ['Mystery', 'Police', 'Psychological', 'Supern...   \n",
       "15785  ['Action', 'Military', 'Mystery', 'Super Power...   \n",
       "8409   ['Action', 'Adventure', 'Fantasy', 'Game', 'Ro...   \n",
       "3      ['Action', 'Military', 'Adventure', 'Comedy', ...   \n",
       "3093   ['Action', 'Sci-Fi', 'Comedy', 'Parody', 'Supe...   \n",
       "\n",
       "                                                 img_url  \\\n",
       "740    https://cdn.myanimelist.net/images/anime/9/945...   \n",
       "15785  https://cdn.myanimelist.net/images/anime/10/47...   \n",
       "8409   https://cdn.myanimelist.net/images/anime/11/39...   \n",
       "3      https://cdn.myanimelist.net/images/anime/1223/...   \n",
       "3093   https://cdn.myanimelist.net/images/anime/12/76...   \n",
       "\n",
       "                                                    link  \n",
       "740        https://myanimelist.net/anime/1535/Death_Note  \n",
       "15785  https://myanimelist.net/anime/16498/Shingeki_n...  \n",
       "8409   https://myanimelist.net/anime/11757/Sword_Art_...  \n",
       "3      https://myanimelist.net/anime/5114/Fullmetal_A...  \n",
       "3093   https://myanimelist.net/anime/30276/One_Punch_Man  "
      ]
     },
     "execution_count": 201,
     "metadata": {},
     "output_type": "execute_result"
    }
   ],
   "source": [
    "df.head()"
   ]
  },
  {
   "cell_type": "code",
   "execution_count": 202,
   "metadata": {},
   "outputs": [],
   "source": [
    "df['synopsis'] = df['synopsis'].str.split()"
   ]
  },
  {
   "cell_type": "code",
   "execution_count": 203,
   "metadata": {},
   "outputs": [
    {
     "data": {
      "text/plain": [
       "740      [A, shinigami,, as, a, god, of, death,, can, k...\n",
       "15785    [Centuries, ago,, mankind, was, slaughtered, t...\n",
       "8409     [In, the, year, 2022,, virtual, reality, has, ...\n",
       "3        [\"In, order, for, something, to, be, obtained,...\n",
       "3093     [The, seemingly, ordinary, and, unimpressive, ...\n",
       "                               ...                        \n",
       "14074    [A, series, of, animations, based, on, prize-w...\n",
       "6868     [The, unaired, 13th, episode, of, Sekai, Seifu...\n",
       "11375    [Destiny, or, delusion?, It's, a, hilarious, r...\n",
       "6523     [Makoto, Nakazono, is, a, high, school, studen...\n",
       "5795     [Yui's, father, forbids, Yui, from, staying, a...\n",
       "Name: synopsis, Length: 3499, dtype: object"
      ]
     },
     "execution_count": 203,
     "metadata": {},
     "output_type": "execute_result"
    }
   ],
   "source": [
    "df['synopsis']"
   ]
  },
  {
   "cell_type": "code",
   "execution_count": 204,
   "metadata": {},
   "outputs": [],
   "source": [
    "import ast"
   ]
  },
  {
   "cell_type": "code",
   "execution_count": 205,
   "metadata": {},
   "outputs": [],
   "source": [
    "def convert(value):\n",
    "    value = ast.literal_eval(value)\n",
    "    return value"
   ]
  },
  {
   "cell_type": "code",
   "execution_count": 206,
   "metadata": {},
   "outputs": [],
   "source": [
    "df['genre'] = df['genre'].apply(convert)"
   ]
  },
  {
   "cell_type": "code",
   "execution_count": 207,
   "metadata": {},
   "outputs": [
    {
     "data": {
      "text/plain": [
       "740      [Mystery, Police, Psychological, Supernatural,...\n",
       "15785    [Action, Military, Mystery, Super Power, Drama...\n",
       "8409           [Action, Adventure, Fantasy, Game, Romance]\n",
       "3        [Action, Military, Adventure, Comedy, Drama, M...\n",
       "3093     [Action, Sci-Fi, Comedy, Parody, Super Power, ...\n",
       "                               ...                        \n",
       "14074               [Slice of Life, Drama, Romance, Josei]\n",
       "6868                             [Action, Comedy, Fantasy]\n",
       "11375                                      [Comedy, Drama]\n",
       "6523                                       [Psychological]\n",
       "5795                     [Comedy, Ecchi, Romance, Shounen]\n",
       "Name: genre, Length: 3499, dtype: object"
      ]
     },
     "execution_count": 207,
     "metadata": {},
     "output_type": "execute_result"
    }
   ],
   "source": [
    "df['genre']"
   ]
  },
  {
   "cell_type": "code",
   "execution_count": 208,
   "metadata": {},
   "outputs": [],
   "source": [
    "df['tags'] = df['synopsis']+ df['genre']"
   ]
  },
  {
   "cell_type": "code",
   "execution_count": 209,
   "metadata": {},
   "outputs": [
    {
     "data": {
      "text/html": [
       "<div>\n",
       "<style scoped>\n",
       "    .dataframe tbody tr th:only-of-type {\n",
       "        vertical-align: middle;\n",
       "    }\n",
       "\n",
       "    .dataframe tbody tr th {\n",
       "        vertical-align: top;\n",
       "    }\n",
       "\n",
       "    .dataframe thead th {\n",
       "        text-align: right;\n",
       "    }\n",
       "</style>\n",
       "<table border=\"1\" class=\"dataframe\">\n",
       "  <thead>\n",
       "    <tr style=\"text-align: right;\">\n",
       "      <th></th>\n",
       "      <th>title</th>\n",
       "      <th>synopsis</th>\n",
       "      <th>genre</th>\n",
       "      <th>img_url</th>\n",
       "      <th>link</th>\n",
       "      <th>tags</th>\n",
       "    </tr>\n",
       "  </thead>\n",
       "  <tbody>\n",
       "    <tr>\n",
       "      <th>740</th>\n",
       "      <td>Death Note</td>\n",
       "      <td>[A, shinigami,, as, a, god, of, death,, can, k...</td>\n",
       "      <td>[Mystery, Police, Psychological, Supernatural,...</td>\n",
       "      <td>https://cdn.myanimelist.net/images/anime/9/945...</td>\n",
       "      <td>https://myanimelist.net/anime/1535/Death_Note</td>\n",
       "      <td>[A, shinigami,, as, a, god, of, death,, can, k...</td>\n",
       "    </tr>\n",
       "    <tr>\n",
       "      <th>15785</th>\n",
       "      <td>Shingeki no Kyojin</td>\n",
       "      <td>[Centuries, ago,, mankind, was, slaughtered, t...</td>\n",
       "      <td>[Action, Military, Mystery, Super Power, Drama...</td>\n",
       "      <td>https://cdn.myanimelist.net/images/anime/10/47...</td>\n",
       "      <td>https://myanimelist.net/anime/16498/Shingeki_n...</td>\n",
       "      <td>[Centuries, ago,, mankind, was, slaughtered, t...</td>\n",
       "    </tr>\n",
       "    <tr>\n",
       "      <th>8409</th>\n",
       "      <td>Sword Art Online</td>\n",
       "      <td>[In, the, year, 2022,, virtual, reality, has, ...</td>\n",
       "      <td>[Action, Adventure, Fantasy, Game, Romance]</td>\n",
       "      <td>https://cdn.myanimelist.net/images/anime/11/39...</td>\n",
       "      <td>https://myanimelist.net/anime/11757/Sword_Art_...</td>\n",
       "      <td>[In, the, year, 2022,, virtual, reality, has, ...</td>\n",
       "    </tr>\n",
       "    <tr>\n",
       "      <th>3</th>\n",
       "      <td>Fullmetal Alchemist: Brotherhood</td>\n",
       "      <td>[\"In, order, for, something, to, be, obtained,...</td>\n",
       "      <td>[Action, Military, Adventure, Comedy, Drama, M...</td>\n",
       "      <td>https://cdn.myanimelist.net/images/anime/1223/...</td>\n",
       "      <td>https://myanimelist.net/anime/5114/Fullmetal_A...</td>\n",
       "      <td>[\"In, order, for, something, to, be, obtained,...</td>\n",
       "    </tr>\n",
       "    <tr>\n",
       "      <th>3093</th>\n",
       "      <td>One Punch Man</td>\n",
       "      <td>[The, seemingly, ordinary, and, unimpressive, ...</td>\n",
       "      <td>[Action, Sci-Fi, Comedy, Parody, Super Power, ...</td>\n",
       "      <td>https://cdn.myanimelist.net/images/anime/12/76...</td>\n",
       "      <td>https://myanimelist.net/anime/30276/One_Punch_Man</td>\n",
       "      <td>[The, seemingly, ordinary, and, unimpressive, ...</td>\n",
       "    </tr>\n",
       "    <tr>\n",
       "      <th>140</th>\n",
       "      <td>Tokyo Ghoul</td>\n",
       "      <td>[Tokyo, has, become, a, cruel, and, merciless,...</td>\n",
       "      <td>[Action, Mystery, Horror, Psychological, Super...</td>\n",
       "      <td>https://cdn.myanimelist.net/images/anime/5/644...</td>\n",
       "      <td>https://myanimelist.net/anime/22319/Tokyo_Ghoul</td>\n",
       "      <td>[Tokyo, has, become, a, cruel, and, merciless,...</td>\n",
       "    </tr>\n",
       "    <tr>\n",
       "      <th>773</th>\n",
       "      <td>Steins;Gate</td>\n",
       "      <td>[The, self-proclaimed, mad, scientist, Rintaro...</td>\n",
       "      <td>[Thriller, Sci-Fi]</td>\n",
       "      <td>https://cdn.myanimelist.net/images/anime/5/731...</td>\n",
       "      <td>https://myanimelist.net/anime/9253/Steins_Gate</td>\n",
       "      <td>[The, self-proclaimed, mad, scientist, Rintaro...</td>\n",
       "    </tr>\n",
       "    <tr>\n",
       "      <th>11554</th>\n",
       "      <td>No Game No Life</td>\n",
       "      <td>[No, Game, No, Life, is, a, surreal, comedy, t...</td>\n",
       "      <td>[Game, Adventure, Comedy, Supernatural, Ecchi,...</td>\n",
       "      <td>https://cdn.myanimelist.net/images/anime/5/651...</td>\n",
       "      <td>https://myanimelist.net/anime/19815/No_Game_No...</td>\n",
       "      <td>[No, Game, No, Life, is, a, surreal, comedy, t...</td>\n",
       "    </tr>\n",
       "    <tr>\n",
       "      <th>5292</th>\n",
       "      <td>Naruto</td>\n",
       "      <td>[Moments, prior, to, Naruto, Uzumaki's, birth,...</td>\n",
       "      <td>[Action, Adventure, Comedy, Super Power, Marti...</td>\n",
       "      <td>https://cdn.myanimelist.net/images/anime/13/17...</td>\n",
       "      <td>https://myanimelist.net/anime/20/Naruto</td>\n",
       "      <td>[Moments, prior, to, Naruto, Uzumaki's, birth,...</td>\n",
       "    </tr>\n",
       "    <tr>\n",
       "      <th>514</th>\n",
       "      <td>Angel Beats!</td>\n",
       "      <td>[Otonashi, awakens, only, to, learn, he, is, d...</td>\n",
       "      <td>[Action, Comedy, Drama, School, Supernatural]</td>\n",
       "      <td>https://cdn.myanimelist.net/images/anime/10/22...</td>\n",
       "      <td>https://myanimelist.net/anime/6547/Angel_Beats</td>\n",
       "      <td>[Otonashi, awakens, only, to, learn, he, is, d...</td>\n",
       "    </tr>\n",
       "    <tr>\n",
       "      <th>759</th>\n",
       "      <td>Code Geass: Hangyaku no Lelouch</td>\n",
       "      <td>[In, the, year, 2010,, the, Holy, Empire, of, ...</td>\n",
       "      <td>[Action, Military, Sci-Fi, Super Power, Drama,...</td>\n",
       "      <td>https://cdn.myanimelist.net/images/anime/5/503...</td>\n",
       "      <td>https://myanimelist.net/anime/1575/Code_Geass_...</td>\n",
       "      <td>[In, the, year, 2010,, the, Holy, Empire, of, ...</td>\n",
       "    </tr>\n",
       "    <tr>\n",
       "      <th>13135</th>\n",
       "      <td>Boku no Hero Academia</td>\n",
       "      <td>[The, appearance, of, \"quirks,\", newly, discov...</td>\n",
       "      <td>[Action, Comedy, School, Shounen, Super Power]</td>\n",
       "      <td>https://cdn.myanimelist.net/images/anime/10/78...</td>\n",
       "      <td>https://myanimelist.net/anime/31964/Boku_no_He...</td>\n",
       "      <td>[The, appearance, of, \"quirks,\", newly, discov...</td>\n",
       "    </tr>\n",
       "    <tr>\n",
       "      <th>1045</th>\n",
       "      <td>Mirai Nikki</td>\n",
       "      <td>[Lonely, high, school, student,, Yukiteru, Ama...</td>\n",
       "      <td>[Action, Mystery, Psychological, Shounen, Supe...</td>\n",
       "      <td>https://cdn.myanimelist.net/images/anime/13/33...</td>\n",
       "      <td>https://myanimelist.net/anime/10620/Mirai_Nikki</td>\n",
       "      <td>[Lonely, high, school, student,, Yukiteru, Ama...</td>\n",
       "    </tr>\n",
       "    <tr>\n",
       "      <th>590</th>\n",
       "      <td>Toradora!</td>\n",
       "      <td>[Ryuuji, Takasu, is, a, gentle, high, school, ...</td>\n",
       "      <td>[Slice of Life, Comedy, Romance, School]</td>\n",
       "      <td>https://cdn.myanimelist.net/images/anime/13/22...</td>\n",
       "      <td>https://myanimelist.net/anime/4224/Toradora</td>\n",
       "      <td>[Ryuuji, Takasu, is, a, gentle, high, school, ...</td>\n",
       "    </tr>\n",
       "    <tr>\n",
       "      <th>18278</th>\n",
       "      <td>Kimi no Na wa.</td>\n",
       "      <td>[Mitsuha, Miyamizu,, a, high, school, girl,, y...</td>\n",
       "      <td>[Romance, Supernatural, School, Drama]</td>\n",
       "      <td>https://cdn.myanimelist.net/images/anime/5/870...</td>\n",
       "      <td>https://myanimelist.net/anime/32281/Kimi_no_Na_wa</td>\n",
       "      <td>[Mitsuha, Miyamizu,, a, high, school, girl,, y...</td>\n",
       "    </tr>\n",
       "    <tr>\n",
       "      <th>357</th>\n",
       "      <td>Noragami</td>\n",
       "      <td>[In, times, of, need,, if, you, look, in, the,...</td>\n",
       "      <td>[Action, Adventure, Comedy, Supernatural, Shou...</td>\n",
       "      <td>https://cdn.myanimelist.net/images/anime/9/778...</td>\n",
       "      <td>https://myanimelist.net/anime/20507/Noragami</td>\n",
       "      <td>[In, times, of, need,, if, you, look, in, the,...</td>\n",
       "    </tr>\n",
       "    <tr>\n",
       "      <th>19270</th>\n",
       "      <td>Ao no Exorcist</td>\n",
       "      <td>[Humans, and, demons, are, two, sides, of, the...</td>\n",
       "      <td>[Action, Demons, Fantasy, Shounen, Supernatural]</td>\n",
       "      <td>https://cdn.myanimelist.net/images/anime/10/75...</td>\n",
       "      <td>https://myanimelist.net/anime/9919/Ao_no_Exorcist</td>\n",
       "      <td>[Humans, and, demons, are, two, sides, of, the...</td>\n",
       "    </tr>\n",
       "    <tr>\n",
       "      <th>5572</th>\n",
       "      <td>Sword Art Online II</td>\n",
       "      <td>[A, year, after, escaping, Sword, Art, Online,...</td>\n",
       "      <td>[Action, Game, Adventure, Romance, Fantasy]</td>\n",
       "      <td>https://cdn.myanimelist.net/images/anime/11/65...</td>\n",
       "      <td>https://myanimelist.net/anime/21881/Sword_Art_...</td>\n",
       "      <td>[A, year, after, escaping, Sword, Art, Online,...</td>\n",
       "    </tr>\n",
       "    <tr>\n",
       "      <th>485</th>\n",
       "      <td>Naruto: Shippuuden</td>\n",
       "      <td>[It, has, been, two, and, a, half, years, sinc...</td>\n",
       "      <td>[Action, Adventure, Comedy, Super Power, Marti...</td>\n",
       "      <td>https://cdn.myanimelist.net/images/anime/5/174...</td>\n",
       "      <td>https://myanimelist.net/anime/1735/Naruto__Shi...</td>\n",
       "      <td>[It, has, been, two, and, a, half, years, sinc...</td>\n",
       "    </tr>\n",
       "    <tr>\n",
       "      <th>18280</th>\n",
       "      <td>Hunter x Hunter (2011)</td>\n",
       "      <td>[Hunter, x, Hunter, is, set, in, a, world, whe...</td>\n",
       "      <td>[Action, Adventure, Fantasy, Shounen, Super Po...</td>\n",
       "      <td>https://cdn.myanimelist.net/images/anime/11/33...</td>\n",
       "      <td>https://myanimelist.net/anime/11061/Hunter_x_H...</td>\n",
       "      <td>[Hunter, x, Hunter, is, set, in, a, world, whe...</td>\n",
       "    </tr>\n",
       "  </tbody>\n",
       "</table>\n",
       "</div>"
      ],
      "text/plain": [
       "                                  title  \\\n",
       "740                          Death Note   \n",
       "15785                Shingeki no Kyojin   \n",
       "8409                   Sword Art Online   \n",
       "3      Fullmetal Alchemist: Brotherhood   \n",
       "3093                      One Punch Man   \n",
       "140                         Tokyo Ghoul   \n",
       "773                         Steins;Gate   \n",
       "11554                   No Game No Life   \n",
       "5292                             Naruto   \n",
       "514                        Angel Beats!   \n",
       "759     Code Geass: Hangyaku no Lelouch   \n",
       "13135             Boku no Hero Academia   \n",
       "1045                        Mirai Nikki   \n",
       "590                           Toradora!   \n",
       "18278                    Kimi no Na wa.   \n",
       "357                            Noragami   \n",
       "19270                    Ao no Exorcist   \n",
       "5572                Sword Art Online II   \n",
       "485                  Naruto: Shippuuden   \n",
       "18280            Hunter x Hunter (2011)   \n",
       "\n",
       "                                                synopsis  \\\n",
       "740    [A, shinigami,, as, a, god, of, death,, can, k...   \n",
       "15785  [Centuries, ago,, mankind, was, slaughtered, t...   \n",
       "8409   [In, the, year, 2022,, virtual, reality, has, ...   \n",
       "3      [\"In, order, for, something, to, be, obtained,...   \n",
       "3093   [The, seemingly, ordinary, and, unimpressive, ...   \n",
       "140    [Tokyo, has, become, a, cruel, and, merciless,...   \n",
       "773    [The, self-proclaimed, mad, scientist, Rintaro...   \n",
       "11554  [No, Game, No, Life, is, a, surreal, comedy, t...   \n",
       "5292   [Moments, prior, to, Naruto, Uzumaki's, birth,...   \n",
       "514    [Otonashi, awakens, only, to, learn, he, is, d...   \n",
       "759    [In, the, year, 2010,, the, Holy, Empire, of, ...   \n",
       "13135  [The, appearance, of, \"quirks,\", newly, discov...   \n",
       "1045   [Lonely, high, school, student,, Yukiteru, Ama...   \n",
       "590    [Ryuuji, Takasu, is, a, gentle, high, school, ...   \n",
       "18278  [Mitsuha, Miyamizu,, a, high, school, girl,, y...   \n",
       "357    [In, times, of, need,, if, you, look, in, the,...   \n",
       "19270  [Humans, and, demons, are, two, sides, of, the...   \n",
       "5572   [A, year, after, escaping, Sword, Art, Online,...   \n",
       "485    [It, has, been, two, and, a, half, years, sinc...   \n",
       "18280  [Hunter, x, Hunter, is, set, in, a, world, whe...   \n",
       "\n",
       "                                                   genre  \\\n",
       "740    [Mystery, Police, Psychological, Supernatural,...   \n",
       "15785  [Action, Military, Mystery, Super Power, Drama...   \n",
       "8409         [Action, Adventure, Fantasy, Game, Romance]   \n",
       "3      [Action, Military, Adventure, Comedy, Drama, M...   \n",
       "3093   [Action, Sci-Fi, Comedy, Parody, Super Power, ...   \n",
       "140    [Action, Mystery, Horror, Psychological, Super...   \n",
       "773                                   [Thriller, Sci-Fi]   \n",
       "11554  [Game, Adventure, Comedy, Supernatural, Ecchi,...   \n",
       "5292   [Action, Adventure, Comedy, Super Power, Marti...   \n",
       "514        [Action, Comedy, Drama, School, Supernatural]   \n",
       "759    [Action, Military, Sci-Fi, Super Power, Drama,...   \n",
       "13135     [Action, Comedy, School, Shounen, Super Power]   \n",
       "1045   [Action, Mystery, Psychological, Shounen, Supe...   \n",
       "590             [Slice of Life, Comedy, Romance, School]   \n",
       "18278             [Romance, Supernatural, School, Drama]   \n",
       "357    [Action, Adventure, Comedy, Supernatural, Shou...   \n",
       "19270   [Action, Demons, Fantasy, Shounen, Supernatural]   \n",
       "5572         [Action, Game, Adventure, Romance, Fantasy]   \n",
       "485    [Action, Adventure, Comedy, Super Power, Marti...   \n",
       "18280  [Action, Adventure, Fantasy, Shounen, Super Po...   \n",
       "\n",
       "                                                 img_url  \\\n",
       "740    https://cdn.myanimelist.net/images/anime/9/945...   \n",
       "15785  https://cdn.myanimelist.net/images/anime/10/47...   \n",
       "8409   https://cdn.myanimelist.net/images/anime/11/39...   \n",
       "3      https://cdn.myanimelist.net/images/anime/1223/...   \n",
       "3093   https://cdn.myanimelist.net/images/anime/12/76...   \n",
       "140    https://cdn.myanimelist.net/images/anime/5/644...   \n",
       "773    https://cdn.myanimelist.net/images/anime/5/731...   \n",
       "11554  https://cdn.myanimelist.net/images/anime/5/651...   \n",
       "5292   https://cdn.myanimelist.net/images/anime/13/17...   \n",
       "514    https://cdn.myanimelist.net/images/anime/10/22...   \n",
       "759    https://cdn.myanimelist.net/images/anime/5/503...   \n",
       "13135  https://cdn.myanimelist.net/images/anime/10/78...   \n",
       "1045   https://cdn.myanimelist.net/images/anime/13/33...   \n",
       "590    https://cdn.myanimelist.net/images/anime/13/22...   \n",
       "18278  https://cdn.myanimelist.net/images/anime/5/870...   \n",
       "357    https://cdn.myanimelist.net/images/anime/9/778...   \n",
       "19270  https://cdn.myanimelist.net/images/anime/10/75...   \n",
       "5572   https://cdn.myanimelist.net/images/anime/11/65...   \n",
       "485    https://cdn.myanimelist.net/images/anime/5/174...   \n",
       "18280  https://cdn.myanimelist.net/images/anime/11/33...   \n",
       "\n",
       "                                                    link  \\\n",
       "740        https://myanimelist.net/anime/1535/Death_Note   \n",
       "15785  https://myanimelist.net/anime/16498/Shingeki_n...   \n",
       "8409   https://myanimelist.net/anime/11757/Sword_Art_...   \n",
       "3      https://myanimelist.net/anime/5114/Fullmetal_A...   \n",
       "3093   https://myanimelist.net/anime/30276/One_Punch_Man   \n",
       "140      https://myanimelist.net/anime/22319/Tokyo_Ghoul   \n",
       "773       https://myanimelist.net/anime/9253/Steins_Gate   \n",
       "11554  https://myanimelist.net/anime/19815/No_Game_No...   \n",
       "5292             https://myanimelist.net/anime/20/Naruto   \n",
       "514       https://myanimelist.net/anime/6547/Angel_Beats   \n",
       "759    https://myanimelist.net/anime/1575/Code_Geass_...   \n",
       "13135  https://myanimelist.net/anime/31964/Boku_no_He...   \n",
       "1045     https://myanimelist.net/anime/10620/Mirai_Nikki   \n",
       "590          https://myanimelist.net/anime/4224/Toradora   \n",
       "18278  https://myanimelist.net/anime/32281/Kimi_no_Na_wa   \n",
       "357         https://myanimelist.net/anime/20507/Noragami   \n",
       "19270  https://myanimelist.net/anime/9919/Ao_no_Exorcist   \n",
       "5572   https://myanimelist.net/anime/21881/Sword_Art_...   \n",
       "485    https://myanimelist.net/anime/1735/Naruto__Shi...   \n",
       "18280  https://myanimelist.net/anime/11061/Hunter_x_H...   \n",
       "\n",
       "                                                    tags  \n",
       "740    [A, shinigami,, as, a, god, of, death,, can, k...  \n",
       "15785  [Centuries, ago,, mankind, was, slaughtered, t...  \n",
       "8409   [In, the, year, 2022,, virtual, reality, has, ...  \n",
       "3      [\"In, order, for, something, to, be, obtained,...  \n",
       "3093   [The, seemingly, ordinary, and, unimpressive, ...  \n",
       "140    [Tokyo, has, become, a, cruel, and, merciless,...  \n",
       "773    [The, self-proclaimed, mad, scientist, Rintaro...  \n",
       "11554  [No, Game, No, Life, is, a, surreal, comedy, t...  \n",
       "5292   [Moments, prior, to, Naruto, Uzumaki's, birth,...  \n",
       "514    [Otonashi, awakens, only, to, learn, he, is, d...  \n",
       "759    [In, the, year, 2010,, the, Holy, Empire, of, ...  \n",
       "13135  [The, appearance, of, \"quirks,\", newly, discov...  \n",
       "1045   [Lonely, high, school, student,, Yukiteru, Ama...  \n",
       "590    [Ryuuji, Takasu, is, a, gentle, high, school, ...  \n",
       "18278  [Mitsuha, Miyamizu,, a, high, school, girl,, y...  \n",
       "357    [In, times, of, need,, if, you, look, in, the,...  \n",
       "19270  [Humans, and, demons, are, two, sides, of, the...  \n",
       "5572   [A, year, after, escaping, Sword, Art, Online,...  \n",
       "485    [It, has, been, two, and, a, half, years, sinc...  \n",
       "18280  [Hunter, x, Hunter, is, set, in, a, world, whe...  "
      ]
     },
     "execution_count": 209,
     "metadata": {},
     "output_type": "execute_result"
    }
   ],
   "source": [
    "df.head(20)"
   ]
  },
  {
   "cell_type": "code",
   "execution_count": 210,
   "metadata": {},
   "outputs": [],
   "source": [
    "df['tags'] = df['tags'].str.join(' ')"
   ]
  },
  {
   "cell_type": "code",
   "execution_count": 211,
   "metadata": {},
   "outputs": [
    {
     "data": {
      "text/html": [
       "<div>\n",
       "<style scoped>\n",
       "    .dataframe tbody tr th:only-of-type {\n",
       "        vertical-align: middle;\n",
       "    }\n",
       "\n",
       "    .dataframe tbody tr th {\n",
       "        vertical-align: top;\n",
       "    }\n",
       "\n",
       "    .dataframe thead th {\n",
       "        text-align: right;\n",
       "    }\n",
       "</style>\n",
       "<table border=\"1\" class=\"dataframe\">\n",
       "  <thead>\n",
       "    <tr style=\"text-align: right;\">\n",
       "      <th></th>\n",
       "      <th>title</th>\n",
       "      <th>synopsis</th>\n",
       "      <th>genre</th>\n",
       "      <th>img_url</th>\n",
       "      <th>link</th>\n",
       "      <th>tags</th>\n",
       "    </tr>\n",
       "  </thead>\n",
       "  <tbody>\n",
       "    <tr>\n",
       "      <th>740</th>\n",
       "      <td>Death Note</td>\n",
       "      <td>[A, shinigami,, as, a, god, of, death,, can, k...</td>\n",
       "      <td>[Mystery, Police, Psychological, Supernatural,...</td>\n",
       "      <td>https://cdn.myanimelist.net/images/anime/9/945...</td>\n",
       "      <td>https://myanimelist.net/anime/1535/Death_Note</td>\n",
       "      <td>A shinigami, as a god of death, can kill any p...</td>\n",
       "    </tr>\n",
       "    <tr>\n",
       "      <th>15785</th>\n",
       "      <td>Shingeki no Kyojin</td>\n",
       "      <td>[Centuries, ago,, mankind, was, slaughtered, t...</td>\n",
       "      <td>[Action, Military, Mystery, Super Power, Drama...</td>\n",
       "      <td>https://cdn.myanimelist.net/images/anime/10/47...</td>\n",
       "      <td>https://myanimelist.net/anime/16498/Shingeki_n...</td>\n",
       "      <td>Centuries ago, mankind was slaughtered to near...</td>\n",
       "    </tr>\n",
       "    <tr>\n",
       "      <th>8409</th>\n",
       "      <td>Sword Art Online</td>\n",
       "      <td>[In, the, year, 2022,, virtual, reality, has, ...</td>\n",
       "      <td>[Action, Adventure, Fantasy, Game, Romance]</td>\n",
       "      <td>https://cdn.myanimelist.net/images/anime/11/39...</td>\n",
       "      <td>https://myanimelist.net/anime/11757/Sword_Art_...</td>\n",
       "      <td>In the year 2022, virtual reality has progress...</td>\n",
       "    </tr>\n",
       "    <tr>\n",
       "      <th>3</th>\n",
       "      <td>Fullmetal Alchemist: Brotherhood</td>\n",
       "      <td>[\"In, order, for, something, to, be, obtained,...</td>\n",
       "      <td>[Action, Military, Adventure, Comedy, Drama, M...</td>\n",
       "      <td>https://cdn.myanimelist.net/images/anime/1223/...</td>\n",
       "      <td>https://myanimelist.net/anime/5114/Fullmetal_A...</td>\n",
       "      <td>\"In order for something to be obtained, someth...</td>\n",
       "    </tr>\n",
       "    <tr>\n",
       "      <th>3093</th>\n",
       "      <td>One Punch Man</td>\n",
       "      <td>[The, seemingly, ordinary, and, unimpressive, ...</td>\n",
       "      <td>[Action, Sci-Fi, Comedy, Parody, Super Power, ...</td>\n",
       "      <td>https://cdn.myanimelist.net/images/anime/12/76...</td>\n",
       "      <td>https://myanimelist.net/anime/30276/One_Punch_Man</td>\n",
       "      <td>The seemingly ordinary and unimpressive Saitam...</td>\n",
       "    </tr>\n",
       "  </tbody>\n",
       "</table>\n",
       "</div>"
      ],
      "text/plain": [
       "                                  title  \\\n",
       "740                          Death Note   \n",
       "15785                Shingeki no Kyojin   \n",
       "8409                   Sword Art Online   \n",
       "3      Fullmetal Alchemist: Brotherhood   \n",
       "3093                      One Punch Man   \n",
       "\n",
       "                                                synopsis  \\\n",
       "740    [A, shinigami,, as, a, god, of, death,, can, k...   \n",
       "15785  [Centuries, ago,, mankind, was, slaughtered, t...   \n",
       "8409   [In, the, year, 2022,, virtual, reality, has, ...   \n",
       "3      [\"In, order, for, something, to, be, obtained,...   \n",
       "3093   [The, seemingly, ordinary, and, unimpressive, ...   \n",
       "\n",
       "                                                   genre  \\\n",
       "740    [Mystery, Police, Psychological, Supernatural,...   \n",
       "15785  [Action, Military, Mystery, Super Power, Drama...   \n",
       "8409         [Action, Adventure, Fantasy, Game, Romance]   \n",
       "3      [Action, Military, Adventure, Comedy, Drama, M...   \n",
       "3093   [Action, Sci-Fi, Comedy, Parody, Super Power, ...   \n",
       "\n",
       "                                                 img_url  \\\n",
       "740    https://cdn.myanimelist.net/images/anime/9/945...   \n",
       "15785  https://cdn.myanimelist.net/images/anime/10/47...   \n",
       "8409   https://cdn.myanimelist.net/images/anime/11/39...   \n",
       "3      https://cdn.myanimelist.net/images/anime/1223/...   \n",
       "3093   https://cdn.myanimelist.net/images/anime/12/76...   \n",
       "\n",
       "                                                    link  \\\n",
       "740        https://myanimelist.net/anime/1535/Death_Note   \n",
       "15785  https://myanimelist.net/anime/16498/Shingeki_n...   \n",
       "8409   https://myanimelist.net/anime/11757/Sword_Art_...   \n",
       "3      https://myanimelist.net/anime/5114/Fullmetal_A...   \n",
       "3093   https://myanimelist.net/anime/30276/One_Punch_Man   \n",
       "\n",
       "                                                    tags  \n",
       "740    A shinigami, as a god of death, can kill any p...  \n",
       "15785  Centuries ago, mankind was slaughtered to near...  \n",
       "8409   In the year 2022, virtual reality has progress...  \n",
       "3      \"In order for something to be obtained, someth...  \n",
       "3093   The seemingly ordinary and unimpressive Saitam...  "
      ]
     },
     "execution_count": 211,
     "metadata": {},
     "output_type": "execute_result"
    }
   ],
   "source": [
    "df.head()"
   ]
  },
  {
   "cell_type": "code",
   "execution_count": 212,
   "metadata": {},
   "outputs": [],
   "source": [
    "df['tags'] = df['tags'].astype(str)"
   ]
  },
  {
   "cell_type": "code",
   "execution_count": 213,
   "metadata": {},
   "outputs": [],
   "source": [
    "import nltk\n",
    "from nltk.stem import PorterStemmer"
   ]
  },
  {
   "cell_type": "code",
   "execution_count": 214,
   "metadata": {},
   "outputs": [],
   "source": [
    "import re"
   ]
  },
  {
   "cell_type": "code",
   "execution_count": 215,
   "metadata": {},
   "outputs": [],
   "source": [
    "stemmer = PorterStemmer()"
   ]
  },
  {
   "cell_type": "code",
   "execution_count": 216,
   "metadata": {},
   "outputs": [],
   "source": [
    "df = df.reset_index(drop=True)"
   ]
  },
  {
   "cell_type": "code",
   "execution_count": 217,
   "metadata": {},
   "outputs": [
    {
     "data": {
      "text/html": [
       "<div>\n",
       "<style scoped>\n",
       "    .dataframe tbody tr th:only-of-type {\n",
       "        vertical-align: middle;\n",
       "    }\n",
       "\n",
       "    .dataframe tbody tr th {\n",
       "        vertical-align: top;\n",
       "    }\n",
       "\n",
       "    .dataframe thead th {\n",
       "        text-align: right;\n",
       "    }\n",
       "</style>\n",
       "<table border=\"1\" class=\"dataframe\">\n",
       "  <thead>\n",
       "    <tr style=\"text-align: right;\">\n",
       "      <th></th>\n",
       "      <th>title</th>\n",
       "      <th>synopsis</th>\n",
       "      <th>genre</th>\n",
       "      <th>img_url</th>\n",
       "      <th>link</th>\n",
       "      <th>tags</th>\n",
       "    </tr>\n",
       "  </thead>\n",
       "  <tbody>\n",
       "    <tr>\n",
       "      <th>0</th>\n",
       "      <td>Death Note</td>\n",
       "      <td>[A, shinigami,, as, a, god, of, death,, can, k...</td>\n",
       "      <td>[Mystery, Police, Psychological, Supernatural,...</td>\n",
       "      <td>https://cdn.myanimelist.net/images/anime/9/945...</td>\n",
       "      <td>https://myanimelist.net/anime/1535/Death_Note</td>\n",
       "      <td>A shinigami, as a god of death, can kill any p...</td>\n",
       "    </tr>\n",
       "    <tr>\n",
       "      <th>1</th>\n",
       "      <td>Shingeki no Kyojin</td>\n",
       "      <td>[Centuries, ago,, mankind, was, slaughtered, t...</td>\n",
       "      <td>[Action, Military, Mystery, Super Power, Drama...</td>\n",
       "      <td>https://cdn.myanimelist.net/images/anime/10/47...</td>\n",
       "      <td>https://myanimelist.net/anime/16498/Shingeki_n...</td>\n",
       "      <td>Centuries ago, mankind was slaughtered to near...</td>\n",
       "    </tr>\n",
       "  </tbody>\n",
       "</table>\n",
       "</div>"
      ],
      "text/plain": [
       "                title                                           synopsis  \\\n",
       "0          Death Note  [A, shinigami,, as, a, god, of, death,, can, k...   \n",
       "1  Shingeki no Kyojin  [Centuries, ago,, mankind, was, slaughtered, t...   \n",
       "\n",
       "                                               genre  \\\n",
       "0  [Mystery, Police, Psychological, Supernatural,...   \n",
       "1  [Action, Military, Mystery, Super Power, Drama...   \n",
       "\n",
       "                                             img_url  \\\n",
       "0  https://cdn.myanimelist.net/images/anime/9/945...   \n",
       "1  https://cdn.myanimelist.net/images/anime/10/47...   \n",
       "\n",
       "                                                link  \\\n",
       "0      https://myanimelist.net/anime/1535/Death_Note   \n",
       "1  https://myanimelist.net/anime/16498/Shingeki_n...   \n",
       "\n",
       "                                                tags  \n",
       "0  A shinigami, as a god of death, can kill any p...  \n",
       "1  Centuries ago, mankind was slaughtered to near...  "
      ]
     },
     "execution_count": 217,
     "metadata": {},
     "output_type": "execute_result"
    }
   ],
   "source": [
    "df.head(2)"
   ]
  },
  {
   "cell_type": "code",
   "execution_count": 218,
   "metadata": {},
   "outputs": [
    {
     "data": {
      "text/plain": [
       "\"Centuries ago, mankind was slaughtered to near extinction by monstrous humanoid creatures called titans, forcing humans to hide in fear behind enormous concentric walls. What makes these giants truly terrifying is that their taste for human flesh is not born out of hunger but what appears to be out of pleasure. To ensure their survival, the remnants of humanity began living within defensive barriers, resulting in one hundred years without a single titan encounter. However, that fragile calm is soon shattered when a colossal titan manages to breach the supposedly impregnable outer wall, reigniting the fight for survival against the man-eating abominations. After witnessing a horrific personal loss at the hands of the invading creatures, Eren Yeager dedicates his life to their eradication by enlisting into the Survey Corps, an elite military unit that combats the merciless humanoids outside the protection of the walls. Based on Hajime Isayama's award-winning manga, Shingeki no Kyojin follows Eren, along with his adopted sister Mikasa Ackerman and his childhood friend Armin Arlert, as they join the brutal war against the titans and race to discover a way of defeating them before the last walls are breached. [Written by MAL Rewrite] Action Military Mystery Super Power Drama Fantasy Shounen\""
      ]
     },
     "execution_count": 218,
     "metadata": {},
     "output_type": "execute_result"
    }
   ],
   "source": [
    "df['tags'][1]"
   ]
  },
  {
   "cell_type": "code",
   "execution_count": 219,
   "metadata": {},
   "outputs": [],
   "source": [
    "vector = []\n",
    "for i in df['tags']:\n",
    "    data = re.sub('[^a-zA-Z0-9\\s]','',i)\n",
    "    data = data.lower()\n",
    "    data = data.split()\n",
    "    data = [stemmer.stem(i) for i in data]\n",
    "    data = ' '.join(data) \n",
    "    vector.append(data)"
   ]
  },
  {
   "cell_type": "code",
   "execution_count": 220,
   "metadata": {},
   "outputs": [
    {
     "data": {
      "text/plain": [
       "'yui father forbid yui from stay at junpei hous and decid shell attend a local high school instead of oumi academi junpei visit with the intent of straighten out a misunderstand for yui sake episod take place prior to episod 10 of ichigo 100 tv seri comedi ecchi romanc shounen'"
      ]
     },
     "execution_count": 220,
     "metadata": {},
     "output_type": "execute_result"
    }
   ],
   "source": [
    "vector[-1]"
   ]
  },
  {
   "cell_type": "code",
   "execution_count": 221,
   "metadata": {},
   "outputs": [],
   "source": [
    "from sklearn.feature_extraction.text import CountVectorizer\n",
    "cv = CountVectorizer(max_features=5000 , stop_words='english')\n",
    "vector = cv.fit_transform(vector).toarray()"
   ]
  },
  {
   "cell_type": "code",
   "execution_count": 222,
   "metadata": {},
   "outputs": [
    {
     "data": {
      "text/plain": [
       "array([[0, 0, 0, ..., 0, 0, 0],\n",
       "       [0, 0, 0, ..., 0, 0, 0],\n",
       "       [0, 0, 0, ..., 0, 0, 0],\n",
       "       ...,\n",
       "       [0, 0, 0, ..., 0, 0, 0],\n",
       "       [0, 0, 0, ..., 0, 0, 0],\n",
       "       [1, 1, 0, ..., 0, 0, 0]], dtype=int64)"
      ]
     },
     "execution_count": 222,
     "metadata": {},
     "output_type": "execute_result"
    }
   ],
   "source": [
    "vector"
   ]
  },
  {
   "cell_type": "code",
   "execution_count": 223,
   "metadata": {},
   "outputs": [
    {
     "name": "stderr",
     "output_type": "stream",
     "text": [
      "e:\\DS And Python\\Data Science\\Project\\Anime recommendation system - small usecase\\venv\\lib\\site-packages\\sklearn\\utils\\extmath.py:193: RuntimeWarning: invalid value encountered in matmul\n",
      "  ret = a @ b\n"
     ]
    }
   ],
   "source": [
    "from sklearn.metrics.pairwise import cosine_similarity\n",
    "similarity = cosine_similarity(vector)"
   ]
  },
  {
   "cell_type": "code",
   "execution_count": 224,
   "metadata": {},
   "outputs": [
    {
     "name": "stdout",
     "output_type": "stream",
     "text": [
      "Hataraku Maou-sama!\n",
      "Ichiban Ushiro no Daimaou\n",
      "Kyou kara Maou!\n",
      "Shuffle!\n",
      "Hakyuu Houshin Engi\n",
      "Kimetsu no Yaiba\n",
      "Shinmai Maou no Testament\n",
      "Karas\n",
      "Isekai Maou to Shoukan Shoujo no Dorei Majutsu\n",
      "3x3 Eyes\n"
     ]
    }
   ],
   "source": [
    "a=sorted(list(enumerate(similarity[16])),reverse=True,key= lambda x:x[1])[1:11]\n",
    "for i in a:\n",
    "    print(df.iloc[i[0]][0])"
   ]
  },
  {
   "cell_type": "code",
   "execution_count": 225,
   "metadata": {},
   "outputs": [],
   "source": [
    "def recommend(anime_name):\n",
    "    anime_index = df[df['title']== anime_name].index[0]\n",
    "    distance = similarity[anime_index]\n",
    "    anime_list = sorted(list(enumerate(distance)),reverse = True,key = lambda x:x[1])[1:11]\n",
    "    for i in anime_list:\n",
    "        print(df.iloc[i[0]][0])"
   ]
  },
  {
   "cell_type": "code",
   "execution_count": 226,
   "metadata": {},
   "outputs": [
    {
     "name": "stdout",
     "output_type": "stream",
     "text": [
      "One Punch Man: Road to Hero\n",
      "One Punch Man 2nd Season\n",
      "Tiger & Bunny\n",
      "Bakuman.\n",
      "Boku no Hero Academia\n",
      "Boku no Hero Academia 3rd Season\n",
      "Yuusha ni Narenakatta Ore wa Shibushibu Shuushoku wo Ketsui Shimashita.\n",
      "To Be Hero\n",
      "Samurai Flamenco\n",
      "Sidonia no Kishi\n"
     ]
    }
   ],
   "source": [
    "recommend('One Punch Man')"
   ]
  },
  {
   "cell_type": "code",
   "execution_count": 227,
   "metadata": {},
   "outputs": [],
   "source": [
    "import pickle"
   ]
  },
  {
   "cell_type": "code",
   "execution_count": 228,
   "metadata": {},
   "outputs": [],
   "source": [
    "with open('anime_list.pkl','wb') as file:\n",
    "    pickle.dump(df.to_dict() , file)"
   ]
  },
  {
   "cell_type": "code",
   "execution_count": 229,
   "metadata": {},
   "outputs": [],
   "source": [
    "with open('similarity.pkl','wb') as file:\n",
    "    pickle.dump(similarity , file)"
   ]
  },
  {
   "cell_type": "code",
   "execution_count": 230,
   "metadata": {},
   "outputs": [
    {
     "data": {
      "text/html": [
       "<div>\n",
       "<style scoped>\n",
       "    .dataframe tbody tr th:only-of-type {\n",
       "        vertical-align: middle;\n",
       "    }\n",
       "\n",
       "    .dataframe tbody tr th {\n",
       "        vertical-align: top;\n",
       "    }\n",
       "\n",
       "    .dataframe thead th {\n",
       "        text-align: right;\n",
       "    }\n",
       "</style>\n",
       "<table border=\"1\" class=\"dataframe\">\n",
       "  <thead>\n",
       "    <tr style=\"text-align: right;\">\n",
       "      <th></th>\n",
       "      <th>title</th>\n",
       "      <th>synopsis</th>\n",
       "      <th>genre</th>\n",
       "      <th>img_url</th>\n",
       "      <th>link</th>\n",
       "      <th>tags</th>\n",
       "    </tr>\n",
       "  </thead>\n",
       "  <tbody>\n",
       "    <tr>\n",
       "      <th>0</th>\n",
       "      <td>Death Note</td>\n",
       "      <td>[A, shinigami,, as, a, god, of, death,, can, k...</td>\n",
       "      <td>[Mystery, Police, Psychological, Supernatural,...</td>\n",
       "      <td>https://cdn.myanimelist.net/images/anime/9/945...</td>\n",
       "      <td>https://myanimelist.net/anime/1535/Death_Note</td>\n",
       "      <td>A shinigami, as a god of death, can kill any p...</td>\n",
       "    </tr>\n",
       "    <tr>\n",
       "      <th>1</th>\n",
       "      <td>Shingeki no Kyojin</td>\n",
       "      <td>[Centuries, ago,, mankind, was, slaughtered, t...</td>\n",
       "      <td>[Action, Military, Mystery, Super Power, Drama...</td>\n",
       "      <td>https://cdn.myanimelist.net/images/anime/10/47...</td>\n",
       "      <td>https://myanimelist.net/anime/16498/Shingeki_n...</td>\n",
       "      <td>Centuries ago, mankind was slaughtered to near...</td>\n",
       "    </tr>\n",
       "    <tr>\n",
       "      <th>2</th>\n",
       "      <td>Sword Art Online</td>\n",
       "      <td>[In, the, year, 2022,, virtual, reality, has, ...</td>\n",
       "      <td>[Action, Adventure, Fantasy, Game, Romance]</td>\n",
       "      <td>https://cdn.myanimelist.net/images/anime/11/39...</td>\n",
       "      <td>https://myanimelist.net/anime/11757/Sword_Art_...</td>\n",
       "      <td>In the year 2022, virtual reality has progress...</td>\n",
       "    </tr>\n",
       "    <tr>\n",
       "      <th>3</th>\n",
       "      <td>Fullmetal Alchemist: Brotherhood</td>\n",
       "      <td>[\"In, order, for, something, to, be, obtained,...</td>\n",
       "      <td>[Action, Military, Adventure, Comedy, Drama, M...</td>\n",
       "      <td>https://cdn.myanimelist.net/images/anime/1223/...</td>\n",
       "      <td>https://myanimelist.net/anime/5114/Fullmetal_A...</td>\n",
       "      <td>\"In order for something to be obtained, someth...</td>\n",
       "    </tr>\n",
       "    <tr>\n",
       "      <th>4</th>\n",
       "      <td>One Punch Man</td>\n",
       "      <td>[The, seemingly, ordinary, and, unimpressive, ...</td>\n",
       "      <td>[Action, Sci-Fi, Comedy, Parody, Super Power, ...</td>\n",
       "      <td>https://cdn.myanimelist.net/images/anime/12/76...</td>\n",
       "      <td>https://myanimelist.net/anime/30276/One_Punch_Man</td>\n",
       "      <td>The seemingly ordinary and unimpressive Saitam...</td>\n",
       "    </tr>\n",
       "  </tbody>\n",
       "</table>\n",
       "</div>"
      ],
      "text/plain": [
       "                              title  \\\n",
       "0                        Death Note   \n",
       "1                Shingeki no Kyojin   \n",
       "2                  Sword Art Online   \n",
       "3  Fullmetal Alchemist: Brotherhood   \n",
       "4                     One Punch Man   \n",
       "\n",
       "                                            synopsis  \\\n",
       "0  [A, shinigami,, as, a, god, of, death,, can, k...   \n",
       "1  [Centuries, ago,, mankind, was, slaughtered, t...   \n",
       "2  [In, the, year, 2022,, virtual, reality, has, ...   \n",
       "3  [\"In, order, for, something, to, be, obtained,...   \n",
       "4  [The, seemingly, ordinary, and, unimpressive, ...   \n",
       "\n",
       "                                               genre  \\\n",
       "0  [Mystery, Police, Psychological, Supernatural,...   \n",
       "1  [Action, Military, Mystery, Super Power, Drama...   \n",
       "2        [Action, Adventure, Fantasy, Game, Romance]   \n",
       "3  [Action, Military, Adventure, Comedy, Drama, M...   \n",
       "4  [Action, Sci-Fi, Comedy, Parody, Super Power, ...   \n",
       "\n",
       "                                             img_url  \\\n",
       "0  https://cdn.myanimelist.net/images/anime/9/945...   \n",
       "1  https://cdn.myanimelist.net/images/anime/10/47...   \n",
       "2  https://cdn.myanimelist.net/images/anime/11/39...   \n",
       "3  https://cdn.myanimelist.net/images/anime/1223/...   \n",
       "4  https://cdn.myanimelist.net/images/anime/12/76...   \n",
       "\n",
       "                                                link  \\\n",
       "0      https://myanimelist.net/anime/1535/Death_Note   \n",
       "1  https://myanimelist.net/anime/16498/Shingeki_n...   \n",
       "2  https://myanimelist.net/anime/11757/Sword_Art_...   \n",
       "3  https://myanimelist.net/anime/5114/Fullmetal_A...   \n",
       "4  https://myanimelist.net/anime/30276/One_Punch_Man   \n",
       "\n",
       "                                                tags  \n",
       "0  A shinigami, as a god of death, can kill any p...  \n",
       "1  Centuries ago, mankind was slaughtered to near...  \n",
       "2  In the year 2022, virtual reality has progress...  \n",
       "3  \"In order for something to be obtained, someth...  \n",
       "4  The seemingly ordinary and unimpressive Saitam...  "
      ]
     },
     "execution_count": 230,
     "metadata": {},
     "output_type": "execute_result"
    }
   ],
   "source": [
    "df.head()"
   ]
  },
  {
   "cell_type": "code",
   "execution_count": 231,
   "metadata": {},
   "outputs": [
    {
     "name": "stdout",
     "output_type": "stream",
     "text": [
      "<class 'pandas.core.frame.DataFrame'>\n",
      "RangeIndex: 3499 entries, 0 to 3498\n",
      "Data columns (total 6 columns):\n",
      " #   Column    Non-Null Count  Dtype \n",
      "---  ------    --------------  ----- \n",
      " 0   title     3499 non-null   object\n",
      " 1   synopsis  3499 non-null   object\n",
      " 2   genre     3499 non-null   object\n",
      " 3   img_url   3499 non-null   object\n",
      " 4   link      3499 non-null   object\n",
      " 5   tags      3499 non-null   object\n",
      "dtypes: object(6)\n",
      "memory usage: 164.1+ KB\n"
     ]
    }
   ],
   "source": [
    "df.info()"
   ]
  },
  {
   "cell_type": "code",
   "execution_count": 232,
   "metadata": {},
   "outputs": [
    {
     "data": {
      "text/html": [
       "<div>\n",
       "<style scoped>\n",
       "    .dataframe tbody tr th:only-of-type {\n",
       "        vertical-align: middle;\n",
       "    }\n",
       "\n",
       "    .dataframe tbody tr th {\n",
       "        vertical-align: top;\n",
       "    }\n",
       "\n",
       "    .dataframe thead th {\n",
       "        text-align: right;\n",
       "    }\n",
       "</style>\n",
       "<table border=\"1\" class=\"dataframe\">\n",
       "  <thead>\n",
       "    <tr style=\"text-align: right;\">\n",
       "      <th></th>\n",
       "      <th>title</th>\n",
       "      <th>synopsis</th>\n",
       "      <th>genre</th>\n",
       "      <th>img_url</th>\n",
       "      <th>link</th>\n",
       "      <th>tags</th>\n",
       "    </tr>\n",
       "  </thead>\n",
       "  <tbody>\n",
       "    <tr>\n",
       "      <th>0</th>\n",
       "      <td>Death Note</td>\n",
       "      <td>[A, shinigami,, as, a, god, of, death,, can, k...</td>\n",
       "      <td>[Mystery, Police, Psychological, Supernatural,...</td>\n",
       "      <td>https://cdn.myanimelist.net/images/anime/9/945...</td>\n",
       "      <td>https://myanimelist.net/anime/1535/Death_Note</td>\n",
       "      <td>A shinigami, as a god of death, can kill any p...</td>\n",
       "    </tr>\n",
       "  </tbody>\n",
       "</table>\n",
       "</div>"
      ],
      "text/plain": [
       "        title                                           synopsis  \\\n",
       "0  Death Note  [A, shinigami,, as, a, god, of, death,, can, k...   \n",
       "\n",
       "                                               genre  \\\n",
       "0  [Mystery, Police, Psychological, Supernatural,...   \n",
       "\n",
       "                                             img_url  \\\n",
       "0  https://cdn.myanimelist.net/images/anime/9/945...   \n",
       "\n",
       "                                            link  \\\n",
       "0  https://myanimelist.net/anime/1535/Death_Note   \n",
       "\n",
       "                                                tags  \n",
       "0  A shinigami, as a god of death, can kill any p...  "
      ]
     },
     "execution_count": 232,
     "metadata": {},
     "output_type": "execute_result"
    }
   ],
   "source": [
    "df[df['title'] == 'Death Note']"
   ]
  },
  {
   "cell_type": "code",
   "execution_count": null,
   "metadata": {},
   "outputs": [],
   "source": []
  }
 ],
 "metadata": {
  "kernelspec": {
   "display_name": "venv",
   "language": "python",
   "name": "python3"
  },
  "language_info": {
   "codemirror_mode": {
    "name": "ipython",
    "version": 3
   },
   "file_extension": ".py",
   "mimetype": "text/x-python",
   "name": "python",
   "nbconvert_exporter": "python",
   "pygments_lexer": "ipython3",
   "version": "3.10.9"
  },
  "orig_nbformat": 4
 },
 "nbformat": 4,
 "nbformat_minor": 2
}
